{
 "cells": [
  {
   "cell_type": "markdown",
   "metadata": {},
   "source": [
    "# Dies ist der Code um die Daten von unserer Sensebox in die Datenbank zu exportieren"
   ]
  },
  {
   "cell_type": "markdown",
   "metadata": {},
   "source": [
    "Wir haben uns dazu entschieden, dass die Speicherung der Daten direkt in der Datenbank passiert und keine Zwischenspeicherung als CSV notwendig ist."
   ]
  },
  {
   "cell_type": "code",
   "execution_count": 70,
   "metadata": {},
   "outputs": [],
   "source": [
    "import os\n",
    "import json\n",
    "import pandas as pd\n",
    "import psycopg2\n",
    "from psycopg2.extras import execute_values\n",
    "from datetime import datetime\n",
    "import requests"
   ]
  },
  {
   "cell_type": "code",
   "execution_count": 71,
   "metadata": {},
   "outputs": [
    {
     "name": "stdout",
     "output_type": "stream",
     "text": [
      "Daten erfolgreich in die Datenbank eingefügt.\n"
     ]
    }
   ],
   "source": [
    "# Verbindungsparameter zur PostgreSQL-Datenbank\n",
    "db_params = {\n",
    "    'dbname': 'Wetterstation',\n",
    "    'user': 'postgres',\n",
    "    'password': 'Montag1618',\n",
    "    'host': 'localhost',\n",
    "    'port': '5432'\n",
    "}\n",
    "\n",
    "# Verbindung zur PostgreSQL-Datenbank herstellen\n",
    "conn = psycopg2.connect(**db_params)\n",
    "\n",
    "# Erstellen der Tabelle, falls sie noch nicht existiert\n",
    "create_table_query = \"\"\"\n",
    "CREATE TABLE IF NOT EXISTS Wetterstation (\n",
    "    id SERIAL PRIMARY KEY,\n",
    "    location_lat DOUBLE PRECISION,\n",
    "    location_lon DOUBLE PRECISION,\n",
    "    created_at TIMESTAMP,\n",
    "    value DOUBLE PRECISION,\n",
    "    folder_name VARCHAR(255),\n",
    "    sensor_id VARCHAR(50),\n",
    "    outlier BOOLEAN\n",
    ");\n",
    "\"\"\"\n",
    "with conn.cursor() as cur:\n",
    "    cur.execute(create_table_query)\n",
    "    conn.commit()\n",
    "\n",
    "# Base URL OpenSenseMap API\n",
    "base_url = \"https://api.opensensemap.org/boxes\"\n",
    "senseBoxId = \"6645e1c8eb5aad0007b226b5\"\n",
    "\n",
    "# Liste der Sensoren\n",
    "sensorIds = [\n",
    "    \"6645e1c8eb5aad0007b226b9\",  \n",
    "    \"6645e1c8eb5aad0007b226b7\",\n",
    "    \"6645e1c8eb5aad0007b226b6\",\n",
    "    \"6645e1c8eb5aad0007b226b8\"\n",
    "]\n",
    "\n",
    "# Parameter\n",
    "params = {\n",
    "    'format': 'json',            \n",
    "    'from-date': '2024-05-17T19:00:00Z',\n",
    "    'download': 'true',          \n",
    "    'outliers': 'mark',          \n",
    "    'outlier-window': 15,        \n",
    "    'delimiter': 'comma'         \n",
    "}\n",
    "\n",
    "all_data = []\n",
    "\n",
    "for sensorId in sensorIds:\n",
    "    endpoint = f'{base_url}/{senseBoxId}/data/{sensorId}'\n",
    "    response = requests.get(endpoint, params=params)\n",
    "    \n",
    "    # ob die request erfolgreich war\n",
    "    if response.status_code == 200:\n",
    "        data = response.json()\n",
    "        # sensor ID zu jeder messung hinzufügen \n",
    "        for measurement in data:\n",
    "            measurement['sensor_id'] = sensorId\n",
    "            # nach outliers schauen und 'outlier' hinzufügen\n",
    "            if 'outlier' in measurement:\n",
    "                measurement['outlier'] = measurement['outlier']\n",
    "            else:\n",
    "                measurement['outlier'] = None  # falls keine outlier, setzen auf None\n",
    "        all_data.extend(data)\n",
    "    else:\n",
    "        print(f'Error retrieving data for sensor {sensorId}: {response.status_code}')\n",
    "\n",
    "# Daten in die PostgreSQL-Datenbank einfügen\n",
    "if all_data:\n",
    "    # Umwandeln der Daten in das passende Format für execute_values\n",
    "    formatted_data = [\n",
    "        (\n",
    "            entry.get('location', [None, None])[0],  # location_lat\n",
    "            entry.get('location', [None, None])[1],  # location_lon\n",
    "            datetime.strptime(entry.get('createdAt'), '%Y-%m-%dT%H:%M:%S.%fZ'),                  # created_at\n",
    "            float(entry.get('value', 0)),            # value\n",
    "            None,                                    # folder_name (nicht vorhanden in API-Daten)\n",
    "            entry.get('sensor_id'),                  # sensor_id\n",
    "            entry.get('outlier') is not None         # outlier\n",
    "        )\n",
    "        for entry in all_data\n",
    "    ]\n",
    "    \n",
    "    insert_query = \"\"\"\n",
    "    INSERT INTO Wetterstation (location_lat, location_lon, created_at, value, folder_name, sensor_id, outlier)\n",
    "    VALUES %s\n",
    "    \"\"\"\n",
    "    with conn.cursor() as cur:\n",
    "        execute_values(cur, insert_query, formatted_data)\n",
    "        conn.commit()\n",
    "    print(\"Daten erfolgreich in die Datenbank eingefügt.\")\n",
    "else:\n",
    "    print(\"Keine Daten abgerufen oder Liste ist leer.\")\n",
    "\n",
    "# Verbindung schließen\n",
    "conn.close()"
   ]
  }
 ],
 "metadata": {
  "kernelspec": {
   "display_name": "Python 3",
   "language": "python",
   "name": "python3"
  },
  "language_info": {
   "codemirror_mode": {
    "name": "ipython",
    "version": 3
   },
   "file_extension": ".py",
   "mimetype": "text/x-python",
   "name": "python",
   "nbconvert_exporter": "python",
   "pygments_lexer": "ipython3",
   "version": "3.10.10"
  }
 },
 "nbformat": 4,
 "nbformat_minor": 2
}
